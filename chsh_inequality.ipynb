{
 "cells": [
  {
   "cell_type": "markdown",
   "metadata": {
    "id": "view-in-github",
    "colab_type": "text"
   },
   "source": [
    "<a href=\"https://colab.research.google.com/github/yiiyama/qc-workbook-lecturenotes/blob/branch-2024/2024_04_18.ipynb\" target=\"_parent\"><img src=\"https://colab.research.google.com/assets/colab-badge.svg\" alt=\"Open In Colab\"/></a>"
   ]
  },
  {
   "cell_type": "markdown",
   "id": "24984863",
   "metadata": {
    "id": "24984863"
   },
   "source": [
    "# CHSH不等式の破れを確認する\n",
    "\n",
    "$\\newcommand{\\ket}[1]{|#1\\rangle}$"
   ]
  },
  {
   "cell_type": "markdown",
   "id": "4c72118b-6fae-47eb-8581-5a62c7c28548",
   "metadata": {
    "id": "4c72118b-6fae-47eb-8581-5a62c7c28548"
   },
   "source": [
    "## まずこのセルを実行してから授業を始めます"
   ]
  },
  {
   "cell_type": "code",
   "execution_count": null,
   "id": "705e643e-06a7-4f6e-b2d1-2753fb16866a",
   "metadata": {
    "tags": [
     "remove-output"
    ],
    "id": "705e643e-06a7-4f6e-b2d1-2753fb16866a"
   },
   "outputs": [],
   "source": [
    "# まずは必要になるpythonモジュールのライブラリファイルをコピーし、すべてインポートしておく\n",
    "import os\n",
    "import sys\n",
    "import shutil\n",
    "import tarfile\n",
    "from google.colab import drive\n",
    "drive.mount('/content/gdrive')\n",
    "shutil.copy('/content/gdrive/MyDrive/qcintro.tar.gz', '.')\n",
    "with tarfile.open('qcintro.tar.gz', 'r:gz') as tar:\n",
    "    tar.extractall(path='/root/.local')\n",
    "\n",
    "sys.path.append('/root/.local/lib/python3.10/site-packages')"
   ]
  },
  {
   "cell_type": "code",
   "source": [
    "import numpy as np\n",
    "import matplotlib.pyplot as plt\n",
    "from qiskit import QuantumCircuit, transpile\n",
    "from qiskit.visualization import plot_histogram\n",
    "from qiskit_ibm_runtime import QiskitRuntimeService, SamplerV2 as Sampler\n",
    "\n",
    "runtime_config_path = '/content/gdrive/MyDrive/qiskit-ibm.json'"
   ],
   "metadata": {
    "id": "2JlGJM8U8J2K"
   },
   "id": "2JlGJM8U8J2K",
   "execution_count": null,
   "outputs": []
  },
  {
   "cell_type": "markdown",
   "id": "c7c6d731",
   "metadata": {
    "id": "c7c6d731"
   },
   "source": [
    "## CHSH不等式を計算する回路を書く"
   ]
  },
  {
   "cell_type": "code",
   "execution_count": null,
   "id": "47d1f2b0",
   "metadata": {
    "id": "47d1f2b0"
   },
   "outputs": [],
   "source": [
    "circuits = []\n",
    "\n",
    "# 回路I - H, CX[0, 1], Ry(-π/4)[1]をかける\n",
    "circuit = QuantumCircuit(2, name='circuit_I')\n",
    "circuit.h(0)\n",
    "circuit.cx(0, 1)\n",
    "circuit.ry(-np.pi / 4., 1)\n",
    "circuit.measure_all()\n",
    "# 回路リストに追加\n",
    "circuits.append(circuit)\n",
    "\n",
    "# 回路II - H, CX[0, 1], Ry(-3π/4)[1]をかける\n",
    "circuit = QuantumCircuit(2, name='circuit_II')\n",
    "circuit.h(0)\n",
    "circuit.cx(0, 1)\n",
    "circuit.ry(-3. * np.pi / 4., 1)\n",
    "circuit.measure_all()\n",
    "# 回路リストに追加\n",
    "circuits.append(circuit)\n",
    "\n",
    "# 回路III - H, CX[0, 1], Ry(-π/4)[1], Ry(-π/2)[0]をかける\n",
    "circuit = QuantumCircuit(2, name='circuit_III')\n",
    "circuit.h(0)\n",
    "circuit.cx(0, 1)\n",
    "circuit.ry(-np.pi / 4., 1)\n",
    "circuit.ry(-np.pi / 2., 0)\n",
    "circuit.measure_all()\n",
    "# 回路リストに追加\n",
    "circuits.append(circuit)\n",
    "\n",
    "# 回路IV - H, CX[0, 1], Ry(-3π/4)[1], Ry(-π/2)[0]をかける\n",
    "circuit = QuantumCircuit(2, name='circuit_IV')\n",
    "circuit.h(0)\n",
    "circuit.cx(0, 1)\n",
    "circuit.ry(-3. * np.pi / 4., 1)\n",
    "circuit.ry(-np.pi / 2., 0)\n",
    "circuit.measure_all()\n",
    "# 回路リストに追加\n",
    "circuits.append(circuit)\n",
    "\n",
    "# draw()にmatplotlibのaxesオブジェクトを渡すと、そこに描画してくれる\n",
    "# 一つのノートブックセルで複数プロットしたい時などに便利\n",
    "fig, axs = plt.subplots(2, 2, figsize=[12., 6.])\n",
    "for circuit, ax in zip(circuits, axs.reshape(-1)):\n",
    "    circuit.draw('mpl', ax=ax)\n",
    "    ax.set_title(circuit.name)"
   ]
  },
  {
   "cell_type": "markdown",
   "id": "0c57cae8",
   "metadata": {
    "id": "0c57cae8"
   },
   "source": [
    "## 回路を実機で実行する"
   ]
  },
  {
   "cell_type": "code",
   "execution_count": null,
   "id": "29a7c2de",
   "metadata": {
    "tags": [
     "raises-exception",
     "remove-output"
    ],
    "id": "29a7c2de"
   },
   "outputs": [],
   "source": [
    "service = QiskitRuntimeService(filename=runtime_config_path)\n",
    "backend = service.least_busy(filters=lambda b: not b.backend_name == 'ibm_kyoto',\n",
    "                             simulator=False, operational=True)\n",
    "print(f'Jobs will run on {backend.name}')\n",
    "\n",
    "sampler = Sampler(backend)"
   ]
  },
  {
   "cell_type": "code",
   "execution_count": null,
   "id": "cd820ea6",
   "metadata": {
    "tags": [
     "raises-exception",
     "remove-output"
    ],
    "id": "cd820ea6"
   },
   "outputs": [],
   "source": [
    "# バックエンドごとに決められている最大ショット数\n",
    "shots = 10000\n",
    "max_shots = backend.configuration().max_shots\n",
    "print(f'Running four circuits, {shots} shots each where {max_shots} shots are allowed')\n",
    "\n",
    "# transpileすることで、量子回路をハードウェアに実装可能なゲートに翻訳する\n",
    "circuits = transpile(circuits, backend=backend, optimization_level=3)\n",
    "# バックエンドで回路をshots回実行させ、測定結果を返させる\n",
    "job = sampler.run(circuits, shots=shots)"
   ]
  },
  {
   "cell_type": "markdown",
   "id": "f963a481-341c-44a8-a51f-287db10e7a41",
   "metadata": {
    "id": "f963a481-341c-44a8-a51f-287db10e7a41"
   },
   "source": [
    "### ジョブのステータスを確認"
   ]
  },
  {
   "cell_type": "code",
   "execution_count": null,
   "id": "2965bda2-edf4-4cc6-aab8-a818e1180ecf",
   "metadata": {
    "id": "2965bda2-edf4-4cc6-aab8-a818e1180ecf"
   },
   "outputs": [],
   "source": [
    "# ジョブIDとステータスを表示\n",
    "print(f\"Job ID: {job.job_id()}, Status: {job.status()}\")"
   ]
  },
  {
   "cell_type": "markdown",
   "id": "83ea406b",
   "metadata": {
    "id": "83ea406b"
   },
   "source": [
    "### IBM Quantumのよく使うページ\n",
    "\n",
    "<a href=\"https://quantum.ibm.com/services/resources\" target=\"_blank\">バックエンド一覧</a>\n",
    "\n",
    "- バックエンドを一つクリックすると詳細が表示される\n",
    "- 現在の全ジョブ数が Total pending jobs として表示される\n",
    "- Instance access limits という欄でバックエンドのジョブあたりの最大ショット数と最大回路数を確認できる\n",
    "\n",
    "<a href=\"https://quantum.ibm.com/jobs\" target=\"_blank\">ジョブ一覧</a>"
   ]
  },
  {
   "cell_type": "markdown",
   "id": "9b5f39c5",
   "metadata": {
    "id": "9b5f39c5"
   },
   "source": [
    "## 量子測定結果の解析\n",
    "\n",
    "### ジョブの結果をダウンロード"
   ]
  },
  {
   "cell_type": "code",
   "execution_count": null,
   "id": "47f7a0b9",
   "metadata": {
    "tags": [
     "raises-exception",
     "remove-output"
    ],
    "id": "47f7a0b9"
   },
   "outputs": [],
   "source": [
    "result = job.result()\n",
    "\n",
    "# 4つの回路のヒストグラムデータを入れるリスト\n",
    "counts_list = []\n",
    "\n",
    "# 回路ごとの結果をresultから抽出する\n",
    "for idx in range(4):\n",
    "    # get_counts(i)で回路iのヒストグラムデータが得られる\n",
    "    counts = result[idx].data.meas.get_counts()\n",
    "    # データをリストに足す\n",
    "    counts_list.append(counts)\n",
    "\n",
    "print(counts_list)"
   ]
  },
  {
   "cell_type": "markdown",
   "id": "3b32e8b9-c9e1-4371-b9d6-3a273704ab2f",
   "metadata": {
    "id": "3b32e8b9-c9e1-4371-b9d6-3a273704ab2f"
   },
   "source": [
    "### ヒストグラムの表示"
   ]
  },
  {
   "cell_type": "code",
   "execution_count": null,
   "id": "f4ad11e7",
   "metadata": {
    "id": "f4ad11e7"
   },
   "outputs": [],
   "source": [
    "fig, axs = plt.subplots(2, 2, sharey=True, figsize=[12., 8.])\n",
    "for counts, circuit, ax in zip(counts_list, circuits, axs.reshape(-1)):\n",
    "    plot_histogram(counts, ax=ax)\n",
    "    ax.set_title(circuit.name)\n",
    "    ax.yaxis.grid(True)"
   ]
  },
  {
   "cell_type": "markdown",
   "id": "46ebd1be-97be-4339-ae7c-1a15a0f66776",
   "metadata": {
    "id": "46ebd1be-97be-4339-ae7c-1a15a0f66776"
   },
   "source": [
    "### $S$の値"
   ]
  },
  {
   "cell_type": "code",
   "execution_count": null,
   "id": "4034aefa",
   "metadata": {
    "id": "4034aefa"
   },
   "outputs": [],
   "source": [
    "# C^I, C^II, C^III, C^IVを一つのアレイにする\n",
    "#（今の場合ただのリストにしてもいいが、純粋な数字の羅列にはnumpy arrayを使うといいことが多い）\n",
    "c_arr = np.zeros(4, dtype=float)\n",
    "\n",
    "# enumerate(L)でリストのインデックスと対応する要素に関するループを回せる\n",
    "for ic, counts in enumerate(counts_list):\n",
    "    # counts['00'] でなく counts.get('00', 0) - 上のテキストを参照\n",
    "    c_arr[ic] = counts.get('00', 0) + counts.get('11', 0) - counts.get('01', 0) - counts.get('10', 0)\n",
    "\n",
    "# 4つの要素を同時に和で規格化（リストではこういうことはできない）\n",
    "c_arr /= shots\n",
    "\n",
    "s_val = c_arr[0] - c_arr[1] + c_arr[2] + c_arr[3]\n",
    "\n",
    "print('C:', c_arr)\n",
    "print('S =', s_val)\n",
    "if s_val > 2.:\n",
    "    print('Yes, we are using a quantum computer!')\n",
    "else:\n",
    "    print('Armonk, we have a problem.')"
   ]
  },
  {
   "cell_type": "code",
   "source": [],
   "metadata": {
    "id": "CORpki5Bza5T"
   },
   "id": "CORpki5Bza5T",
   "execution_count": null,
   "outputs": []
  }
 ],
 "metadata": {
  "jupytext": {
   "notebook_metadata_filter": "all"
  },
  "kernelspec": {
   "display_name": "Python 3 (ipykernel)",
   "language": "python",
   "name": "python3"
  },
  "language_info": {
   "codemirror_mode": {
    "name": "ipython",
    "version": 3
   },
   "file_extension": ".py",
   "mimetype": "text/x-python",
   "name": "python",
   "nbconvert_exporter": "python",
   "pygments_lexer": "ipython3",
   "version": "3.10.6"
  },
  "colab": {
   "provenance": [],
   "include_colab_link": true
  }
 },
 "nbformat": 4,
 "nbformat_minor": 5
}
