{
 "cells": [
  {
   "cell_type": "markdown",
   "metadata": {
    "id": "view-in-github",
    "colab_type": "text"
   },
   "source": [
    "<a href=\"https://colab.research.google.com/github/yiiyama/qc-workbook-lecturenotes/blob/branch-2024/2024_04_18.ipynb\" target=\"_parent\"><img src=\"https://colab.research.google.com/assets/colab-badge.svg\" alt=\"Open In Colab\"/></a>"
   ]
  },
  {
   "cell_type": "markdown",
   "id": "24984863",
   "metadata": {
    "id": "24984863"
   },
   "source": [
    "# Demonstration of violation of CHSH inequality\n",
    "\n",
    "$\\newcommand{\\ket}[1]{|#1\\rangle}$"
   ]
  },
  {
   "cell_type": "markdown",
   "id": "4c72118b-6fae-47eb-8581-5a62c7c28548",
   "metadata": {
    "id": "4c72118b-6fae-47eb-8581-5a62c7c28548"
   },
   "source": [
    "## First, execute these cells to prepare the program"
   ]
  },
  {
   "cell_type": "code",
   "execution_count": null,
   "id": "705e643e-06a7-4f6e-b2d1-2753fb16866a",
   "metadata": {
    "tags": [
     "remove-output"
    ],
    "id": "705e643e-06a7-4f6e-b2d1-2753fb16866a"
   },
   "outputs": [],
   "source": [
    "# First, get all the necessary libraries from the copy and import packages\n",
    "import os\n",
    "import sys\n",
    "import shutil\n",
    "import tarfile\n",
    "from google.colab import drive\n",
    "drive.mount('/content/gdrive')\n",
    "shutil.copy('/content/gdrive/MyDrive/qcintro.tar.gz', '.')\n",
    "with tarfile.open('qcintro.tar.gz', 'r:gz') as tar:\n",
    "    tar.extractall(path='/root/.local')\n",
    "\n",
    "sys.path.append('/root/.local/lib/python3.10/site-packages')"
   ]
  },
  {
   "cell_type": "code",
   "source": [
    "import numpy as np\n",
    "import matplotlib.pyplot as plt\n",
    "from qiskit import QuantumCircuit, transpile\n",
    "from qiskit.visualization import plot_histogram\n",
    "from qiskit_ibm_runtime import QiskitRuntimeService, SamplerV2 as Sampler\n",
    "\n",
    "runtime_config_path = '/content/gdrive/MyDrive/qiskit-ibm.json'"
   ],
   "metadata": {
    "id": "2JlGJM8U8J2K"
   },
   "id": "2JlGJM8U8J2K",
   "execution_count": null,
   "outputs": []
  },
  {
   "cell_type": "markdown",
   "id": "c7c6d731",
   "metadata": {
    "id": "c7c6d731"
   },
   "source": [
    "## Build quantum circuits to calculate CHSH inequality"
   ]
  },
  {
   "cell_type": "code",
   "execution_count": null,
   "id": "47d1f2b0",
   "metadata": {
    "id": "47d1f2b0"
   },
   "outputs": [],
   "source": [
    "circuits = []\n",
    "\n",
    "# Circuit I - H, CX[0, 1], Ry(-π/4)[1]\n",
    "circuit = QuantumCircuit(2, name='circuit_I')\n",
    "circuit.h(0)\n",
    "circuit.cx(0, 1)\n",
    "circuit.ry(-np.pi / 4., 1)\n",
    "circuit.measure_all()\n",
    "# Added in the circuit list\n",
    "circuits.append(circuit)\n",
    "\n",
    "# Circuit II - H, CX[0, 1], Ry(-3π/4)[1]\n",
    "circuit = QuantumCircuit(2, name='circuit_II')\n",
    "circuit.h(0)\n",
    "circuit.cx(0, 1)\n",
    "circuit.ry(-3. * np.pi / 4., 1)\n",
    "circuit.measure_all()\n",
    "# Added in the circuit list\n",
    "circuits.append(circuit)\n",
    "\n",
    "# Circuit III - H, CX[0, 1], Ry(-π/4)[1], Ry(-π/2)[0]\n",
    "circuit = QuantumCircuit(2, name='circuit_III')\n",
    "circuit.h(0)\n",
    "circuit.cx(0, 1)\n",
    "circuit.ry(-np.pi / 4., 1)\n",
    "circuit.ry(-np.pi / 2., 0)\n",
    "circuit.measure_all()\n",
    "# Added in the circuit list\n",
    "circuits.append(circuit)\n",
    "\n",
    "# Circuit IV - H, CX[0, 1], Ry(-3π/4)[1], Ry(-π/2)[0]\n",
    "circuit = QuantumCircuit(2, name='circuit_IV')\n",
    "circuit.h(0)\n",
    "circuit.cx(0, 1)\n",
    "circuit.ry(-3. * np.pi / 4., 1)\n",
    "circuit.ry(-np.pi / 2., 0)\n",
    "circuit.measure_all()\n",
    "# Added in the circuit list\n",
    "circuits.append(circuit)\n",
    "\n",
    "# Draw the circuits\n",
    "fig, axs = plt.subplots(2, 2, figsize=[12., 6.])\n",
    "for circuit, ax in zip(circuits, axs.reshape(-1)):\n",
    "    circuit.draw('mpl', ax=ax)\n",
    "    ax.set_title(circuit.name)"
   ]
  },
  {
   "cell_type": "markdown",
   "id": "0c57cae8",
   "metadata": {
    "id": "0c57cae8"
   },
   "source": [
    "## Execute the circuits on quantum computer"
   ]
  },
  {
   "cell_type": "code",
   "execution_count": null,
   "id": "29a7c2de",
   "metadata": {
    "tags": [
     "raises-exception",
     "remove-output"
    ],
    "id": "29a7c2de"
   },
   "outputs": [],
   "source": [
    "service = QiskitRuntimeService(filename=runtime_config_path)\n",
    "backend = service.least_busy(filters=lambda b: not b.backend_name == 'ibm_kyoto',\n",
    "                             simulator=False, operational=True)\n",
    "print(f'Jobs will run on {backend.name}')\n",
    "\n",
    "sampler = Sampler(backend)"
   ]
  },
  {
   "cell_type": "code",
   "execution_count": null,
   "id": "cd820ea6",
   "metadata": {
    "tags": [
     "raises-exception",
     "remove-output"
    ],
    "id": "cd820ea6"
   },
   "outputs": [],
   "source": [
    "shots = 10000\n",
    "# Maximum number of shots allowed for the backend\n",
    "max_shots = backend.configuration().max_shots\n",
    "print(f'Running four circuits, {shots} shots each where {max_shots} shots are allowed')\n",
    "\n",
    "# Transpile quantum circuit to native gate sets for the backend\n",
    "circuits = transpile(circuits, backend=backend, optimization_level=3)\n",
    "# Execute the circuit shots times\n",
    "job = sampler.run(circuits, shots=shots)"
   ]
  },
  {
   "cell_type": "markdown",
   "id": "f963a481-341c-44a8-a51f-287db10e7a41",
   "metadata": {
    "id": "f963a481-341c-44a8-a51f-287db10e7a41"
   },
   "source": [
    "### Check job status"
   ]
  },
  {
   "cell_type": "code",
   "execution_count": null,
   "id": "2965bda2-edf4-4cc6-aab8-a818e1180ecf",
   "metadata": {
    "id": "2965bda2-edf4-4cc6-aab8-a818e1180ecf"
   },
   "outputs": [],
   "source": [
    "# Display job ID and its status\n",
    "print(f\"Job ID: {job.job_id()}, Status: {job.status()}\")"
   ]
  },
  {
   "cell_type": "markdown",
   "id": "83ea406b",
   "metadata": {
    "id": "83ea406b"
   },
   "source": [
    "### Useful resource page of IBM Quantum\n",
    "\n",
    "<a href=\"https://quantum.ibm.com/services/resources\" target=\"_blank\">List of backends</a>\n",
    "\n",
    "- You can see the details of the backend by clicking it.\n",
    "- The total number of jobs is shown as Total pending jobs.\n",
    "- You can check the maximum numbers of shots and circuits per job at Instance access limits.\n",
    "\n",
    "<a href=\"https://quantum.ibm.com/jobs\" target=\"_blank\">List of jobs</a>"
   ]
  },
  {
   "cell_type": "markdown",
   "id": "9b5f39c5",
   "metadata": {
    "id": "9b5f39c5"
   },
   "source": [
    "## Analyze results\n",
    "\n",
    "### Download job output"
   ]
  },
  {
   "cell_type": "code",
   "execution_count": null,
   "id": "47f7a0b9",
   "metadata": {
    "tags": [
     "raises-exception",
     "remove-output"
    ],
    "id": "47f7a0b9"
   },
   "outputs": [],
   "source": [
    "result = job.result()\n",
    "\n",
    "# List to store histogram data from four circutis\n",
    "counts_list = []\n",
    "\n",
    "# Get histogram from result\n",
    "for idx in range(4):\n",
    "    # Histogram data for circuit i using get_counts(i)\n",
    "    counts = result[idx].data.meas.get_counts()\n",
    "    # Add the data to the list\n",
    "    counts_list.append(counts)\n",
    "\n",
    "print(counts_list)"
   ]
  },
  {
   "cell_type": "markdown",
   "id": "3b32e8b9-c9e1-4371-b9d6-3a273704ab2f",
   "metadata": {
    "id": "3b32e8b9-c9e1-4371-b9d6-3a273704ab2f"
   },
   "source": [
    "### Plot histograms"
   ]
  },
  {
   "cell_type": "code",
   "execution_count": null,
   "id": "f4ad11e7",
   "metadata": {
    "id": "f4ad11e7"
   },
   "outputs": [],
   "source": [
    "fig, axs = plt.subplots(2, 2, sharey=True, figsize=[12., 8.])\n",
    "for counts, circuit, ax in zip(counts_list, circuits, axs.reshape(-1)):\n",
    "    plot_histogram(counts, ax=ax)\n",
    "    ax.set_title(circuit.name)\n",
    "    ax.yaxis.grid(True)"
   ]
  },
  {
   "cell_type": "markdown",
   "id": "46ebd1be-97be-4339-ae7c-1a15a0f66776",
   "metadata": {
    "id": "46ebd1be-97be-4339-ae7c-1a15a0f66776"
   },
   "source": [
    "### Value of $S$"
   ]
  },
  {
   "cell_type": "code",
   "execution_count": null,
   "id": "4034aefa",
   "metadata": {
    "id": "4034aefa"
   },
   "outputs": [],
   "source": [
    "# Put C^I, C^II, C^III and C^IV into a single array\n",
    "c_arr = np.zeros(4, dtype=float)\n",
    "\n",
    "# Loop over the list\n",
    "for ic, counts in enumerate(counts_list):\n",
    "    # Note counts.get('00', 0), not counts['00']\n",
    "    c_arr[ic] = counts.get('00', 0) + counts.get('11', 0) - counts.get('01', 0) - counts.get('10', 0)\n",
    "\n",
    "# Normalize the four elements by the number of shots\n",
    "c_arr /= shots\n",
    "\n",
    "s_val = c_arr[0] - c_arr[1] + c_arr[2] + c_arr[3]\n",
    "\n",
    "print('C:', c_arr)\n",
    "print('S =', s_val)\n",
    "if s_val > 2.:\n",
    "    print('Yes, we are using a quantum computer!')\n",
    "else:\n",
    "    print('Armonk, we have a problem.')"
   ]
  },
  {
   "cell_type": "code",
   "source": [],
   "metadata": {
    "id": "CORpki5Bza5T"
   },
   "id": "CORpki5Bza5T",
   "execution_count": null,
   "outputs": []
  }
 ],
 "metadata": {
  "jupytext": {
   "notebook_metadata_filter": "all"
  },
  "kernelspec": {
   "display_name": "Python 3 (ipykernel)",
   "language": "python",
   "name": "python3"
  },
  "language_info": {
   "codemirror_mode": {
    "name": "ipython",
    "version": 3
   },
   "file_extension": ".py",
   "mimetype": "text/x-python",
   "name": "python",
   "nbconvert_exporter": "python",
   "pygments_lexer": "ipython3",
   "version": "3.10.6"
  },
  "colab": {
   "provenance": [],
   "include_colab_link": true
  }
 },
 "nbformat": 4,
 "nbformat_minor": 5
}
