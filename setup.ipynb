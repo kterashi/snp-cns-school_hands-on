{
 "nbformat": 4,
 "nbformat_minor": 0,
 "metadata": {
  "colab": {
   "provenance": [],
   "authorship_tag": "ABX9TyPAACnj3BV4aOFqidNnnKE0",
   "include_colab_link": true
  },
  "kernelspec": {
   "name": "python3",
   "display_name": "Python 3"
  },
  "language_info": {
   "name": "python"
  }
 },
 "cells": [
  {
   "cell_type": "markdown",
   "metadata": {
    "id": "view-in-github",
    "colab_type": "text"
   },
   "source": [
    "<a href=\"https://colab.research.google.com/github/yiiyama/qc-workbook-lecturenotes/blob/branch-2024/setup.ipynb\" target=\"_parent\"><img src=\"https://colab.research.google.com/assets/colab-badge.svg\" alt=\"Open In Colab\"/></a>"
   ]
  },
  {
   "cell_type": "markdown",
   "source": [
    "# Set up environment"
   ],
   "metadata": {
    "id": "eCdfP6jD5buu"
   }
  },
  {
   "cell_type": "markdown",
   "source": [
    "## Installation of Qiskit and related libraries\n",
    "\n",
    "Note that a new environment is created every time you open a notebook file in Google Colab, therefore what you installed previously is gone. You can install software library (e.g, Qiskit) every time you start Colab with a new file, but it is more practical to make a copy of the library on your Google Drive and use it instead."
   ],
   "metadata": {
    "id": "yJqS5IMc5glb"
   }
  },
  {
   "cell_type": "markdown",
   "source": [
    "When you execute code in a cell, a window pops up and asks you about the access permission to Google Drive. You could select a Google account that uses the Drive, that will allow the notebook to access storage of the Drive."
   ],
   "metadata": {
    "collapsed": false
   }
  },
  {
   "cell_type": "code",
   "source": [
    "import os\n",
    "import sys\n",
    "import tarfile\n",
    "import shutil\n",
    "sys.path.append('/root/.local/lib/python3.10/site-packages')\n",
    "from google.colab import drive\n",
    "drive.mount('/content/gdrive')"
   ],
   "metadata": {
    "id": "Rxnx8o3Y6Sld"
   },
   "execution_count": null,
   "outputs": []
  },
  {
   "cell_type": "code",
   "source": [
    "!pip install --user qiskit qiskit-ibm-runtime qiskit-aer qiskit-nature pylatexenc qutip"
   ],
   "metadata": {
    "id": "RhKTT8cw7ULp"
   },
   "execution_count": null,
   "outputs": []
  },
  {
   "cell_type": "markdown",
   "source": [
    "Library files are put together into a file ``qcintro.tar.gz`` and stored in Googld Drive."
   ],
   "metadata": {
    "id": "wzRnMN7nksyP"
   }
  },
  {
   "cell_type": "code",
   "source": [
    "os.chdir('/root/.local')\n",
    "\n",
    "tarname = 'qcintro.tar.gz'\n",
    "with tarfile.open(tarname, 'w:gz') as tar:\n",
    "    for subdir in ['lib', 'bin']:\n",
    "        tar.add(subdir)\n",
    "\n",
    "shutil.copy(tarname, '/content/gdrive/MyDrive')"
   ],
   "metadata": {
    "id": "i61ZyqNqeHTJ"
   },
   "execution_count": null,
   "outputs": []
  },
  {
   "cell_type": "markdown",
   "source": [
    "## Initial setting needed to use IBM quantum computer\n",
    "\n",
    "Visit [IBM Quantum web site](https://quantum.ibm.com/) and copy your API token from the top-right corner of the page. Then, replace ``__your_token__`` with your token in the cell below.\n",
    "\n",
    "Once the cell is executed, the information about your token is saved by creating a json file ``qiskit-ibm.json`` under your My Drive."
   ],
   "metadata": {
    "id": "cjNL7h_rwkpE"
   }
  },
  {
   "cell_type": "code",
   "execution_count": null,
   "metadata": {
    "id": "DqshVuDSwTSF"
   },
   "outputs": [],
   "source": [
    "from qiskit_ibm_runtime import QiskitRuntimeService\n",
    "QiskitRuntimeService.save_account(channel='ibm_quantum', token='__your_token__',\n",
    "                                  #instance='ibm-q-utokyo/internal/***',\n",
    "                                  filename='/content/gdrive/MyDrive/qiskit-ibm.json')"
   ]
  }
 ]
}
