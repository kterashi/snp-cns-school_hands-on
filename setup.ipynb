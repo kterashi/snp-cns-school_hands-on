{
 "nbformat": 4,
 "nbformat_minor": 0,
 "metadata": {
  "colab": {
   "provenance": [],
   "authorship_tag": "ABX9TyPAACnj3BV4aOFqidNnnKE0",
   "include_colab_link": true
  },
  "kernelspec": {
   "name": "python3",
   "display_name": "Python 3"
  },
  "language_info": {
   "name": "python"
  }
 },
 "cells": [
  {
   "cell_type": "markdown",
   "metadata": {
    "id": "view-in-github",
    "colab_type": "text"
   },
   "source": [
    "<a href=\"https://colab.research.google.com/github/yiiyama/qc-workbook-lecturenotes/blob/branch-2024/setup.ipynb\" target=\"_parent\"><img src=\"https://colab.research.google.com/assets/colab-badge.svg\" alt=\"Open In Colab\"/></a>"
   ]
  },
  {
   "cell_type": "markdown",
   "source": [
    "# 環境整備"
   ],
   "metadata": {
    "id": "eCdfP6jD5buu"
   }
  },
  {
   "cell_type": "markdown",
   "source": [
    "## Qiskitと関連ライブラリのインストール\n",
    "\n",
    "Google Colabではノートブックファイルを開くたびに全く新しい実行環境が提供されるので、そのままではQiskitなど量子計算用のライブラリが使えません。毎回インストールしてもいいですが、一度個人のGoogle Drive上にライブラリファイルをコピーしておき、以降はそのファイルを参照することにしましょう。"
   ],
   "metadata": {
    "id": "yJqS5IMc5glb"
   }
  },
  {
   "cell_type": "markdown",
   "source": [
    "セルを実行すると、Google Driveへのアクセス許可についてのポップアップが現れます。Driveを利用したいアカウントを選択し、全ての項目に関してアクセスを許可するとドライブのストレージがこのノートブックから利用できるようになります。"
   ],
   "metadata": {
    "collapsed": false
   }
  },
  {
   "cell_type": "code",
   "source": [
    "import os\n",
    "import sys\n",
    "import tarfile\n",
    "import shutil\n",
    "sys.path.append('/root/.local/lib/python3.10/site-packages')\n",
    "from google.colab import drive\n",
    "drive.mount('/content/gdrive')"
   ],
   "metadata": {
    "id": "Rxnx8o3Y6Sld"
   },
   "execution_count": null,
   "outputs": []
  },
  {
   "cell_type": "code",
   "source": [
    "!pip install --user qiskit qiskit-ibm-runtime qiskit-aer qiskit-nature pylatexenc qutip"
   ],
   "metadata": {
    "id": "RhKTT8cw7ULp"
   },
   "execution_count": null,
   "outputs": []
  },
  {
   "cell_type": "markdown",
   "source": [
    "ライブラリファイルはひとまとまりの``qcintro.tar.gz``という圧縮ファイルにしてGoogle Drive上に保存します。"
   ],
   "metadata": {
    "id": "wzRnMN7nksyP"
   }
  },
  {
   "cell_type": "code",
   "source": [
    "os.chdir('/root/.local')\n",
    "\n",
    "tarname = 'qcintro.tar.gz'\n",
    "with tarfile.open(tarname, 'w:gz') as tar:\n",
    "    for subdir in ['lib', 'bin']:\n",
    "        tar.add(subdir)\n",
    "\n",
    "shutil.copy(tarname, '/content/gdrive/MyDrive')"
   ],
   "metadata": {
    "id": "i61ZyqNqeHTJ"
   },
   "execution_count": null,
   "outputs": []
  },
  {
   "cell_type": "markdown",
   "source": [
    "## IBM Quantumの量子コンピュータを使うための初期設定\n",
    "\n",
    "[IBM Quantumのトップページ](https://quantum.ibm.com/)に行き、右上のAPI Tokenのボックスのコピーボタンを押し、クリップボードにコピーされたトークン文字列で下のセルの``__your_token__``を置き換えてください。\n",
    "\n",
    "セルの実行が終わると、My Driveの直下に``qiskit-ibm.json``というファイルが書かれ、トークン情報が保存されます。"
   ],
   "metadata": {
    "id": "cjNL7h_rwkpE"
   }
  },
  {
   "cell_type": "code",
   "execution_count": null,
   "metadata": {
    "id": "DqshVuDSwTSF"
   },
   "outputs": [],
   "source": [
    "from qiskit_ibm_runtime import QiskitRuntimeService\n",
    "QiskitRuntimeService.save_account(channel='ibm_quantum', token='__your_token__',\n",
    "                                  #instance='ibm-q-utokyo/internal/***',\n",
    "                                  filename='/content/gdrive/MyDrive/qiskit-ibm.json')"
   ]
  }
 ]
}
